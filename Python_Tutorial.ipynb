{
  "nbformat": 4,
  "nbformat_minor": 0,
  "metadata": {
    "kernelspec": {
      "display_name": "Python 3",
      "language": "python",
      "name": "python3"
    },
    "language_info": {
      "codemirror_mode": {
        "name": "ipython",
        "version": 3
      },
      "file_extension": ".py",
      "mimetype": "text/x-python",
      "name": "python",
      "nbconvert_exporter": "python",
      "pygments_lexer": "ipython3",
      "version": "3.7.1"
    },
    "colab": {
      "provenance": [],
      "include_colab_link": true
    }
  },
  "cells": [
    {
      "cell_type": "markdown",
      "metadata": {
        "id": "view-in-github",
        "colab_type": "text"
      },
      "source": [
        "<a href=\"https://colab.research.google.com/github/rezaAdinepour/neural-network/blob/main/Python_Tutorial.ipynb\" target=\"_parent\"><img src=\"https://colab.research.google.com/assets/colab-badge.svg\" alt=\"Open In Colab\"/></a>"
      ]
    },
    {
      "cell_type": "markdown",
      "metadata": {
        "id": "8BIHS5gZ-Uap"
      },
      "source": [
        "<div style=\"direction:rtl;line-height:300%;\"><font face=\"XB Zar\" size=5>\n",
        "<div style=\"direction:rtl;line-height:300%;\"><font face=\"XB Zar\" size=5>\n",
        "<div align=center>\n",
        "<font face=\"IranNastaliq\" size=30>\n",
        "<p></p>\n",
        "به نام خدا\n",
        "</font>\n",
        "<br>\n",
        "<font color=#FF7500>\n",
        "دانشگاه صنعتی شاهرود - دانشکده مهندسی برق\n",
        "</font>\n",
        "<br>\n",
        "<font color=green>\n",
        "شبکه های عصبی\n",
        "</font>\n",
        "<br>\n",
        "ترم اول سال تحصیلی 1401-1402\n",
        "</div>\n",
        "<hr/>\n",
        "<font color=red size=6>\n",
        "<p></p>\n",
        "\n",
        "<div align=center>آموزش پایتون</div>\n",
        "</font>\n",
        "<hr>\n",
        "</font></div>\n",
        "\n",
        "\n",
        "<style type=\"text/css\" scoped>\n",
        "p{\n",
        "border: 1px solid #a2a9b1;background-color: #f8f9fa;display: inline-block;\n",
        "};\n",
        "</style>\n"
      ]
    },
    {
      "cell_type": "markdown",
      "metadata": {
        "deletable": false,
        "id": "-s1UzG1D-Uat"
      },
      "source": [
        "<div style=\"direction:rtl;line-height:300%;\"><font face=\"XB Zar\" size=5>\n",
        "<div class=\"persian\" id=\"section0\">\n",
        "<h3>معرفی Python</h3>\n",
        "\n",
        "پایتون یک زبان برنامه نویسی متن بازِ تفسیریِ سطح بالا که سال ۱۹۹۱ توسط خَودو فان روسوم ساخته شده. طراحی پایتون بر خوانایی کد، و تعداد خطوط کمتر برای بیان مفاهیم و در نتیجه زمان کمتر برای پیاده‌سازی تاکید دارد. \n",
        "\n",
        "</div>\n",
        "</font></div>"
      ]
    },
    {
      "cell_type": "code",
      "metadata": {
        "id": "_XhuT6jV-Uau",
        "colab": {
          "base_uri": "https://localhost:8080/"
        },
        "outputId": "3c12574c-4bf8-40d9-b5d8-56198085742b"
      },
      "source": [
        "print(\"hello world!\")"
      ],
      "execution_count": null,
      "outputs": [
        {
          "output_type": "stream",
          "name": "stdout",
          "text": [
            "hello world!\n"
          ]
        }
      ]
    },
    {
      "cell_type": "markdown",
      "metadata": {
        "id": "uvdENLiXNMST"
      },
      "source": [
        "<div style=\"direction:rtl;line-height:300%;\" id=\"section11\"><font face=\"XB Zar\" size=5>\n",
        "<h3>Import</h3>\n",
        "یکی از قوی‌ترین جنبه‌های زبان پایتون کتابخانه‌هایی اند که برای انجام تقریبا هرگونه کاری در پایتون نوشته شده‌اند. برای استفاده از این کتابخانه‌ها ابتدا باید آن‌ها را بر روی کامپیوتر (در کتابخانه‌های نسخه‌ی پایتون خود) نصب کنید. برای این کار چند روش متداول وجود دارد:\n",
        "<ul>\n",
        "    <li>استفاده از دستور pip: <br/><div class=\"codeM english\">pip install &lt;libraryName&gt;[==version]</div></li>\n",
        "    <li>استفاده از دستور easy_install:<br/><div class=\"codeM english\">easy_install &lt;libraryName&gt;</div></li>\n",
        "    <li>دانلود کردن و setup کردن به صورت دستی: <br/><div class=\"codeM english\"># download<br/># unzip or untar<br/># cd folder<br/>python setup.py install</div></li>\n",
        "</ul>\n",
        "<br/>\n",
        "حال می‌توانید از کتابخانه‌ی مورد نظر استفاده کنید. برای این کار باید ابتدا هر کتابخانه‌ای را که می‌خواهید از آن استفاده کنید را Import (همانند include در C++) کنید و سپس از آن استفاده کنید. برای این کار چند روش وجود دارد:\n",
        "<ul>\n",
        "    <li>\n",
        "        import کردن خود ماژول:\n",
        "        <div class=\"codeM english\">\n",
        "            import urllib2 as urllib\n",
        "            <br/>\n",
        "            res = urllib.urlopen('https://lms.shahroodut.ac.ir')\n",
        "        </div>\n",
        "    </li>\n",
        "    <li>\n",
        "    import کردن توابع یا کلاس‌های موجود در ماژول:\n",
        "        <div class=\"codeM english\">\n",
        "            from urllib2 import urlopen\n",
        "            <br/>\n",
        "                # or\n",
        "            <br/>\n",
        "            from urllib2 import *\n",
        "            <br/>\n",
        "            res = urlopen('https://lms.shahroodut.ac.ir')\n",
        "        </div>\n",
        "    </li>\n",
        "</ul>\n",
        "بهتر است معمولا فقط از یکی از این دو روش استفاده کنیم.\n",
        "</font></div>"
      ]
    },
    {
      "cell_type": "code",
      "metadata": {
        "id": "plRHFJ0Y-Ua7"
      },
      "source": [
        "import numpy as np\n",
        "import torch\n",
        "import torch.nn as nn\n",
        "import string\n",
        "#  from layers import FullyConnected, FullyConnected2, L2Layer, LogisticRegression, ReLU\n",
        "#  from trainers import Trainer"
      ],
      "execution_count": null,
      "outputs": []
    },
    {
      "cell_type": "markdown",
      "metadata": {
        "id": "YRzXkTvA-Ua8"
      },
      "source": [
        "<div style=\"direction:rtl;line-height:300%;\" id=\"section1\"><font face=\"XB Zar\" size=5>\n",
        "<h3>متغیر‌ها</h3>\n",
        "</font></div>"
      ]
    },
    {
      "cell_type": "code",
      "metadata": {
        "id": "8M2aqawJ-Ua9",
        "colab": {
          "base_uri": "https://localhost:8080/"
        },
        "outputId": "522a6afe-9990-4bb0-95e0-2adc35b0b4da"
      },
      "source": [
        "var = 10\n",
        "print(type(var))\n",
        "print(isinstance(var, int))\n",
        "\n",
        "var = 'salam'\n",
        "print(type(var))\n",
        "print(isinstance(var, int))"
      ],
      "execution_count": null,
      "outputs": [
        {
          "output_type": "stream",
          "name": "stdout",
          "text": [
            "<class 'int'>\n",
            "True\n",
            "<class 'str'>\n",
            "False\n"
          ]
        }
      ]
    },
    {
      "cell_type": "markdown",
      "metadata": {
        "id": "yGcq6uMZ-Ua-"
      },
      "source": [
        "<div style=\"direction:rtl;line-height:300%;\" id=\"section2\"><font face=\"XB Zar\" size=5>\n",
        "<h3>انواع داده‌ای پایه:</h3>\n",
        "<ul>\n",
        "    <li>Boolean یا همان: True و False (به بزرگ و کوچک بودن حروف دقت کنید)</li>\n",
        "    <li>اعداد: int, long, float, complex</li>\n",
        "    <li>رشته‌ها</li>\n",
        "    <li>None: معادل NULL در C++</li>\n",
        "</ul>\n",
        "</font></div>"
      ]
    },
    {
      "cell_type": "code",
      "metadata": {
        "id": "DJ6-uuy5-Ua_",
        "colab": {
          "base_uri": "https://localhost:8080/"
        },
        "outputId": "24196a2d-d19a-479c-f18e-6f4e304bfdbd"
      },
      "source": [
        "a = 6         # int\n",
        "b = 10        # long, well longer!\n",
        "d = 3.5       # float (there is no double)\n",
        "c1 = 1+2j     # complex\n",
        "c2 = 2+1j\n",
        "big_int = 123 ** 50\n",
        "print(a + d) \n",
        "print(a / b)   # int division\n",
        "print(a / d)\n",
        "print(c1 + c2) # complex addition\n",
        "print(c1 * c2) # complex multiplication\n",
        "print(big_int) # python has big-integers\n",
        "\n",
        "a1 = 12.5\n",
        "a2 = 123.2\n",
        "print(a2 // a1)\n",
        "print(a2 / a1)"
      ],
      "execution_count": null,
      "outputs": [
        {
          "output_type": "stream",
          "name": "stdout",
          "text": [
            "9.5\n",
            "0.6\n",
            "1.7142857142857142\n",
            "(3+3j)\n",
            "5j\n",
            "312791953184952432773037647427847997734252247042927663351793818343238523007334595314754865270114370908249\n",
            "9.0\n",
            "9.856\n"
          ]
        }
      ]
    },
    {
      "cell_type": "code",
      "metadata": {
        "id": "4JpD4fux-UbA",
        "colab": {
          "base_uri": "https://localhost:8080/"
        },
        "outputId": "d269ad84-6452-4e61-a6b3-966d228c2ae4"
      },
      "source": [
        "s1 = 'hello guys, i\\'m a string!'\n",
        "s2 = \"hi, i'm a string \\n \\ttoo!\"\n",
        "s3 = \"\"\"i'm \n",
        "a multiline\n",
        "string!\"\"\"\n",
        "s4 = \"i'm another st\\\n",
        "ring\"\n",
        "\n",
        "print('s1: ' + s1)\n",
        "print('s2: ' + s2)\n",
        "print('s3: ' + s3)\n",
        "print('s4: ' + s4)\n",
        "print\n",
        "print('haha ' * 3)  # no comment\n",
        "# print('number ' + 2)-> TypeError:\n",
        "#  --> cannot concatenate 'str' and 'int' objects\n",
        "print('number ' + str(2))"
      ],
      "execution_count": null,
      "outputs": [
        {
          "output_type": "stream",
          "name": "stdout",
          "text": [
            "s1: hello guys, i'm a string!\n",
            "s2: hi, i'm a string \n",
            " \ttoo!\n",
            "s3: i'm \n",
            "a multiline\n",
            "string!\n",
            "s4: i'm another string\n",
            "haha haha haha \n",
            "number 2\n"
          ]
        }
      ]
    },
    {
      "cell_type": "code",
      "metadata": {
        "id": "othAmN3L-UbB",
        "colab": {
          "base_uri": "https://localhost:8080/"
        },
        "outputId": "8c74bfd5-ab4f-49da-92d3-afbc2d65be28"
      },
      "source": [
        "path = 'C:\\\\users\\\\documents\\\\..'\n",
        "raw_string = r'C:\\users\\documents\\..' #skip the skip character !\n",
        "\n",
        "print(path + '\\n' + raw_string)\n",
        "\n",
        "print('max: ' + max(path))\n",
        "print('min: ' + min(path))\n",
        "print('users' in path)\n",
        "print('Users' in path)\n",
        "\n",
        "str2 = 'python workshop'\n",
        "print('py' in str2)"
      ],
      "execution_count": null,
      "outputs": [
        {
          "output_type": "stream",
          "name": "stdout",
          "text": [
            "C:\\users\\documents\\..\n",
            "C:\\users\\documents\\..\n",
            "max: u\n",
            "min: .\n",
            "True\n",
            "False\n",
            "True\n"
          ]
        }
      ]
    },
    {
      "cell_type": "code",
      "metadata": {
        "id": "hX1jSR6G-UbC",
        "colab": {
          "base_uri": "https://localhost:8080/"
        },
        "outputId": "f013a83c-beca-43de-e11d-491e04c808b9"
      },
      "source": [
        "user = 'user'\n",
        "password = 12312\n",
        "print('hello %s, welcome! %d' % (user, password))\n",
        "print('hello {}, welcome!'.format(user))\n",
        "print('hello {user}, {greeting}!'.format(user=user, greeting='welcome'))\n",
        "a = 14.998742365577\n",
        "print('a = {:.4f}'.format(a))"
      ],
      "execution_count": null,
      "outputs": [
        {
          "output_type": "stream",
          "name": "stdout",
          "text": [
            "hello user, welcome! 12312\n",
            "hello user, welcome!\n",
            "hello user, welcome!\n",
            "a = 14.9987\n"
          ]
        }
      ]
    },
    {
      "cell_type": "code",
      "metadata": {
        "id": "qpYwAeAF-UbD",
        "colab": {
          "base_uri": "https://localhost:8080/",
          "height": 53
        },
        "outputId": "39938351-8781-4207-88ca-0655316d1a1a"
      },
      "source": [
        "fa = 'سلام'\n",
        "print(fa)\n",
        "fa"
      ],
      "execution_count": null,
      "outputs": [
        {
          "output_type": "stream",
          "name": "stdout",
          "text": [
            "سلام\n"
          ]
        },
        {
          "output_type": "execute_result",
          "data": {
            "application/vnd.google.colaboratory.intrinsic+json": {
              "type": "string"
            },
            "text/plain": [
              "'سلام'"
            ]
          },
          "metadata": {},
          "execution_count": 9
        }
      ]
    },
    {
      "cell_type": "code",
      "metadata": {
        "id": "6feh4TbZ-UbF",
        "colab": {
          "base_uri": "https://localhost:8080/"
        },
        "outputId": "6a5e5f3f-11fd-4e56-a73b-b2d16713b1e1"
      },
      "source": [
        "#substrings\n",
        "\n",
        "s = \"it's a wonderful life!\"\n",
        "print(s[5]) \n",
        "print(s[-17]) \n",
        "\n",
        "print(s[5:])\n",
        "print(s[5: 13])\n",
        "print(s[5: -9])\n",
        "print(s[: 13])\n",
        "print(s[: -9])"
      ],
      "execution_count": null,
      "outputs": [
        {
          "output_type": "stream",
          "name": "stdout",
          "text": [
            "a\n",
            "a\n",
            "a wonderful life!\n",
            "a wonder\n",
            "a wonder\n",
            "it's a wonder\n",
            "it's a wonder\n"
          ]
        }
      ]
    },
    {
      "cell_type": "code",
      "metadata": {
        "id": "GThHp7KP-UbG",
        "colab": {
          "base_uri": "https://localhost:8080/"
        },
        "outputId": "71951e8d-38b2-4178-d60b-e1d91776568f"
      },
      "source": [
        "# simple input reading\n",
        "a = input(\"What is your name? \")\n",
        "print(a)\n",
        "b = input()\n",
        "print(b)\n",
        "print(type(b))"
      ],
      "execution_count": null,
      "outputs": [
        {
          "output_type": "stream",
          "name": "stdout",
          "text": [
            "What is your name? dfdgfg\n",
            "dfdgfg\n",
            "frgthgt\n",
            "frgthgt\n",
            "<class 'str'>\n"
          ]
        }
      ]
    },
    {
      "cell_type": "markdown",
      "metadata": {
        "id": "5sCkUXp9-UbH"
      },
      "source": [
        "# if"
      ]
    },
    {
      "cell_type": "code",
      "metadata": {
        "id": "EnroA8ft-UbI",
        "colab": {
          "base_uri": "https://localhost:8080/"
        },
        "outputId": "a0f7e656-8285-4dff-9102-b8b51d6302bb"
      },
      "source": [
        "a = 8\n",
        "if a < 5:\n",
        "    print('a is less than 5')\n",
        "elif (a < 10):  # this is okay too, but why bother?\n",
        "    print('a is greater than or equal to 5 and less than 10')\n",
        "else:\n",
        "    print('a is greater than or equal to 10')\n",
        "\n",
        "print  # just a newline\n",
        "\n",
        "if a < 10 or (2/0):\n",
        "    # the second one must throw a division by zero exception\n",
        "    print('no error was thrown')\n",
        "    # obviously or (also and) is short-circuited"
      ],
      "execution_count": null,
      "outputs": [
        {
          "output_type": "stream",
          "name": "stdout",
          "text": [
            "a is greater than or equal to 5 and less than 10\n",
            "no error was thrown\n"
          ]
        }
      ]
    },
    {
      "cell_type": "code",
      "metadata": {
        "id": "mDn43u7s-UbJ",
        "colab": {
          "base_uri": "https://localhost:8080/"
        },
        "outputId": "57fe7bf9-67d9-480a-d2d2-53c58b27d31b"
      },
      "source": [
        "if False:\n",
        "    print('block 1')\n",
        "if True:\n",
        "    print('\\tblock 1.1')\n",
        "    if True:\n",
        "            print('\\t\\tblock 1.1.1')\n",
        "    if True:\n",
        "        print('\\tblock 1.2')\n",
        "    else:\n",
        "        # block 1.3, blocks can't be empty!\n",
        "        pass"
      ],
      "execution_count": null,
      "outputs": [
        {
          "output_type": "stream",
          "name": "stdout",
          "text": [
            "\tblock 1.1\n",
            "\t\tblock 1.1.1\n",
            "\tblock 1.2\n"
          ]
        }
      ]
    },
    {
      "cell_type": "markdown",
      "metadata": {
        "id": "jrbww3IR-UbK"
      },
      "source": [
        "<div style=\"direction:rtl;line-height:300%;\" id=\"section5\"><font face=\"XB Zar\" size=5>\n",
        "<h3>لیست‌ها</h3>\n",
        "لیست‌های پایتون درست مثل vector (آرایه‌های با طول متغیر) در C++ یا Java اند.\n",
        "<br/>\n",
        "slicing یکی از قابلیت‌های بسیار مفید در پایتون است.\n",
        "</font></div>\n"
      ]
    },
    {
      "cell_type": "code",
      "metadata": {
        "scrolled": false,
        "id": "6YXBOjvn-UbK",
        "colab": {
          "base_uri": "https://localhost:8080/"
        },
        "outputId": "ac36f4ab-ff4d-497c-ceb2-13b310278959"
      },
      "source": [
        "l = [6,\n",
        "     2,\n",
        "     10,\n",
        "     3,\n",
        "     5,]\n",
        "#  you can break the lines that are constrined by [] or () or {}\n",
        "# it can be a very good tool for increasing readability\n",
        "     \n",
        "#  also you can leave the last colon (,) be, it doesn't do any harm\n",
        "# it's not necessary either\n",
        "\n",
        "print('length of lis: ' + str(len(l)))\n",
        "\n",
        "print(l[0])     # the first item\n",
        "print(l[-1])    # the last item\n",
        "print(l[1:3])   # only the second and third item\n",
        "print(l[1:-1])  # everything but the first and the last item\n",
        "print(l[:3])    # the first 3 items\n",
        "print(l[-2:])   # the last 2 items\n",
        "print(l[0:100]) # no error! the whole list is returned\n",
        "\n",
        "# lists can contain different object types!\n",
        "l = ['salam', 12, 5.23]\n",
        "print(l)\n",
        "print(l[0][1])"
      ],
      "execution_count": null,
      "outputs": [
        {
          "output_type": "stream",
          "name": "stdout",
          "text": [
            "length of lis: 5\n",
            "6\n",
            "5\n",
            "[2, 10]\n",
            "[2, 10, 3]\n",
            "[6, 2, 10]\n",
            "[3, 5]\n",
            "[6, 2, 10, 3, 5]\n",
            "['salam', 12, 5.23]\n",
            "a\n"
          ]
        }
      ]
    },
    {
      "cell_type": "code",
      "metadata": {
        "id": "6o9-dOdo-UbL",
        "colab": {
          "base_uri": "https://localhost:8080/"
        },
        "outputId": "70b0a754-a088-4675-b7ba-9477ebea811b"
      },
      "source": [
        "l.reverse()\n",
        "print(l)        # list is reversed\n",
        "l = [1, 2, 5]\n",
        "l.sort()\n",
        "print(l)        # list is sorted\n",
        "l.sort(reverse=True)\n",
        "print(l)        # list is sorted in reverse order"
      ],
      "execution_count": null,
      "outputs": [
        {
          "output_type": "stream",
          "name": "stdout",
          "text": [
            "[5.23, 12, 'salam']\n",
            "[1, 2, 5]\n",
            "[5, 2, 1]\n"
          ]
        }
      ]
    },
    {
      "cell_type": "code",
      "metadata": {
        "id": "_XKQGNOi-UbM",
        "colab": {
          "base_uri": "https://localhost:8080/"
        },
        "outputId": "8c8226de-36bb-47c8-b359-99f59f5cd9e1"
      },
      "source": [
        "s = 'hello, welcome to python programming!'\n",
        "# string also have slicing!\n",
        "print(s[s.find('w'):s.find('w')+7] + ' to ' + s[:4].upper()+ '!')"
      ],
      "execution_count": null,
      "outputs": [
        {
          "output_type": "stream",
          "name": "stdout",
          "text": [
            "welcome to HELL!\n"
          ]
        }
      ]
    },
    {
      "cell_type": "code",
      "metadata": {
        "scrolled": true,
        "id": "X0T3DS0m-UbM",
        "colab": {
          "base_uri": "https://localhost:8080/"
        },
        "outputId": "5598219a-a4b7-49ee-fd46-36087497dad1"
      },
      "source": [
        "r = list(range(7))\n",
        "# r = [*range(7)]\n",
        "print(type(range(7)))\n",
        "print(r)\n",
        "\n",
        "print('-- check existence:')\n",
        "print(3 in r)\n",
        "print(11 in r)\n",
        "\n",
        "print('-- add:')\n",
        "r.append(10)\n",
        "r.append(7)\n",
        "r.append(10)\n",
        "print(r)\n",
        "\n",
        "print('-- count:')\n",
        "print(r.count(10))\n",
        "\n",
        "print('-- remove:')\n",
        "r.remove(10)\n",
        "print(r)\n",
        "print(len(r))"
      ],
      "execution_count": null,
      "outputs": [
        {
          "output_type": "stream",
          "name": "stdout",
          "text": [
            "<class 'range'>\n",
            "[0, 1, 2, 3, 4, 5, 6]\n",
            "-- check existence:\n",
            "True\n",
            "False\n",
            "-- add:\n",
            "[0, 1, 2, 3, 4, 5, 6, 10, 7, 10]\n",
            "-- count:\n",
            "2\n",
            "-- remove:\n",
            "[0, 1, 2, 3, 4, 5, 6, 7, 10]\n",
            "9\n"
          ]
        }
      ]
    },
    {
      "cell_type": "code",
      "metadata": {
        "id": "iOg5l94f-UbN",
        "colab": {
          "base_uri": "https://localhost:8080/"
        },
        "outputId": "0588604a-d73f-4968-d634-4599d3618747"
      },
      "source": [
        "arr = [0] * 10\n",
        "print(arr)\n",
        "\n",
        "arr[4] = arr[2] = 11\n",
        "print(arr)\n",
        "s = [[1, 2], [5, 6, 7]]\n",
        "print(s)"
      ],
      "execution_count": null,
      "outputs": [
        {
          "output_type": "stream",
          "name": "stdout",
          "text": [
            "[0, 0, 0, 0, 0, 0, 0, 0, 0, 0]\n",
            "[0, 0, 11, 0, 11, 0, 0, 0, 0, 0]\n",
            "[[1, 2], [5, 6, 7]]\n"
          ]
        }
      ]
    },
    {
      "cell_type": "code",
      "metadata": {
        "id": "JXmNtN0T-UbN",
        "colab": {
          "base_uri": "https://localhost:8080/"
        },
        "outputId": "c20367db-0061-4ca3-ce14-e1fb15b012b6"
      },
      "source": [
        "# beware when using multiplication with lists and other objects\n",
        "arr = [[1,2,3]] * 4  # for example don't do this!\n",
        "print(arr)\n",
        "arr[0][0] = 13\n",
        "print(arr)\n",
        "\n",
        "# instead you can do this (we'll cover what this means later):\n",
        "arr = [[1,2,3] for _ in range(3)]\n",
        "arr[0][0] = 13\n",
        "print(arr)"
      ],
      "execution_count": null,
      "outputs": [
        {
          "output_type": "stream",
          "name": "stdout",
          "text": [
            "[[1, 2, 3], [1, 2, 3], [1, 2, 3], [1, 2, 3]]\n",
            "[[13, 2, 3], [13, 2, 3], [13, 2, 3], [13, 2, 3]]\n",
            "[[13, 2, 3], [1, 2, 3], [1, 2, 3]]\n"
          ]
        }
      ]
    },
    {
      "cell_type": "markdown",
      "metadata": {
        "id": "Y6NjR9nx-UbN"
      },
      "source": [
        "# id\n"
      ]
    },
    {
      "cell_type": "code",
      "metadata": {
        "id": "6UoAk_7g-UbO",
        "outputId": "b986d8ff-1f86-4f30-ff7c-a97f51353e5c"
      },
      "source": [
        "# id() reperesent unique id for an object\n",
        "# when integer value changes, we have new object!\n",
        "print('id() of immutables')\n",
        "a = 12\n",
        "b = 12\n",
        "print(id(a), id(b))\n",
        "a = 13\n",
        "print(id(a), id(b))\n",
        "# beaware it's not always like this!\n",
        "\n",
        "# values in list change, but object id doesn't. \n",
        "a = [1, 1, 1]\n",
        "print(id(a))\n",
        "a[0] = 2\n",
        "print(id(a))\n",
        "\n",
        "a = [1, 1, 1]\n",
        "b = a\n",
        "print(a, b)\n",
        "b[1] = 3\n",
        "print(a, b) # it mean's a, b reference to same object\n",
        "\n",
        "a = [1, 1, 1]\n",
        "b = list(a) # allocation, new object\n",
        "print(a, b)\n",
        "b[1] = 3\n",
        "print(a, b)\n",
        "\n",
        "\n",
        "a = 'salam'\n",
        "# a[0] = 'S'\n",
        "# ---> TypeError: 'str' object does not support item assignment\n",
        "a = 'S' + a[1:]\n",
        "print(a)"
      ],
      "execution_count": null,
      "outputs": [
        {
          "name": "stdout",
          "output_type": "stream",
          "text": [
            "id() of immutables\n",
            "(36970608, 36970608)\n",
            "(36970584, 36970608)\n",
            "139787637791272\n",
            "139787637791272\n",
            "([1, 1, 1], [1, 1, 1])\n",
            "([1, 3, 1], [1, 3, 1])\n",
            "([1, 1, 1], [1, 1, 1])\n",
            "([1, 1, 1], [1, 3, 1])\n",
            "Salam\n"
          ]
        }
      ]
    },
    {
      "cell_type": "markdown",
      "metadata": {
        "id": "mDC1Ruzo-UbO"
      },
      "source": [
        "<div style=\"direction:rtl;line-height:300%;\" id=\"section7\"><font face=\"XB Zar\" size=5>\n",
        "<h3>زوج (چند‌تایی)های مرتب</h3>\n",
        "همانند لیست های غیرقابل تغییر هستند\n",
        "</font></div>"
      ]
    },
    {
      "cell_type": "code",
      "metadata": {
        "id": "X3rSgksY-UbP",
        "colab": {
          "base_uri": "https://localhost:8080/"
        },
        "outputId": "292cb5e7-b606-48c0-c517-330f95c2da33"
      },
      "source": [
        "t = (10,6,19)\n",
        "print(t[0])\n",
        "print(t[0:-1])\n",
        "print(t*2)\n",
        "\n",
        "# t[1] = 4\n",
        "# t.append -> not supported"
      ],
      "execution_count": null,
      "outputs": [
        {
          "output_type": "stream",
          "name": "stdout",
          "text": [
            "10\n",
            "(10, 6)\n",
            "(10, 6, 19, 10, 6, 19)\n"
          ]
        }
      ]
    },
    {
      "cell_type": "code",
      "metadata": {
        "id": "qqoS_rnS-UbP",
        "colab": {
          "base_uri": "https://localhost:8080/"
        },
        "outputId": "b18042b2-4a89-4fbd-d815-eaef7c413e17"
      },
      "source": [
        "a, b, c = [1, 2, 3]\n",
        "print(a)\n",
        "print(b)\n",
        "print(c)\n",
        "\n",
        "print('---')\n",
        "a, b, c = c, b, a  # 3-way swap in one statement!\n",
        "print(a)\n",
        "print(b)\n",
        "print(c)"
      ],
      "execution_count": null,
      "outputs": [
        {
          "output_type": "stream",
          "name": "stdout",
          "text": [
            "1\n",
            "2\n",
            "3\n",
            "---\n",
            "3\n",
            "2\n",
            "1\n"
          ]
        }
      ]
    },
    {
      "cell_type": "markdown",
      "metadata": {
        "id": "Jb529BTB-UbQ"
      },
      "source": [
        "<div style=\"direction:rtl;line-height:300%;\" id=\"section8\"><font face=\"XB Zar\" size=5>\n",
        "<h3>مجموعه‌ها</h3>\n",
        "مجموعه‌ها می‌توانند حداکثر یکی از هر چیز را نگه‌داری کنند \n",
        "</font></div>"
      ]
    },
    {
      "cell_type": "code",
      "metadata": {
        "id": "8zew2UKW-UbQ",
        "colab": {
          "base_uri": "https://localhost:8080/"
        },
        "outputId": "fd65c630-526f-483c-8970-05ffa529203d"
      },
      "source": [
        "s = {1,2,3,3, (1,2), 'hasan'}\n",
        "print(s)\n",
        "print(len(s))\n",
        "print(1 in s)\n",
        "print(4 in s)\n",
        "\n",
        "print('-- add:')\n",
        "s.add(4)\n",
        "print(s)\n",
        "print(4 in s)\n",
        "\n",
        "print('-- remove:')\n",
        "s.remove(3)\n",
        "print(s)\n",
        "print(3 in s)"
      ],
      "execution_count": null,
      "outputs": [
        {
          "output_type": "stream",
          "name": "stdout",
          "text": [
            "{(1, 2), 1, 2, 3, 'hasan'}\n",
            "5\n",
            "True\n",
            "False\n",
            "-- add:\n",
            "{(1, 2), 1, 2, 3, 4, 'hasan'}\n",
            "True\n",
            "-- remove:\n",
            "{(1, 2), 1, 2, 4, 'hasan'}\n",
            "False\n"
          ]
        }
      ]
    },
    {
      "cell_type": "markdown",
      "metadata": {
        "id": "IKLXyWs7-UbQ"
      },
      "source": [
        "# Dictionary"
      ]
    },
    {
      "cell_type": "code",
      "metadata": {
        "id": "K-DrWXqk-UbR",
        "colab": {
          "base_uri": "https://localhost:8080/"
        },
        "outputId": "a5d99316-0d9f-47d4-e870-1c7343b752b9"
      },
      "source": [
        "d = {'ali': 1,\n",
        "     'mamad': 2,\n",
        "     1: 3,\n",
        "     (1,2): 4,\n",
        "    }\n",
        "print(len(d))\n",
        "print(d)\n",
        "print(d[1])\n",
        "print(1 in d)\n",
        "print(d['mamad'])\n",
        "print(d[1,2])\n",
        "# when there's no ambiguity, the parantheses around tuples are not needed\n",
        "\n",
        "print('-- delete:')\n",
        "del d[1]\n",
        "# print d[1] -> KeyError\n",
        "print(1 in d)\n",
        "print(d)\n",
        "\n",
        "print('-- add:')\n",
        "d['new'] = 123\n",
        "print(d)"
      ],
      "execution_count": null,
      "outputs": [
        {
          "output_type": "stream",
          "name": "stdout",
          "text": [
            "4\n",
            "{'ali': 1, 'mamad': 2, 1: 3, (1, 2): 4}\n",
            "3\n",
            "True\n",
            "2\n",
            "4\n",
            "-- delete:\n",
            "False\n",
            "{'ali': 1, 'mamad': 2, (1, 2): 4}\n",
            "-- add:\n",
            "{'ali': 1, 'mamad': 2, (1, 2): 4, 'new': 123}\n"
          ]
        }
      ]
    },
    {
      "cell_type": "markdown",
      "metadata": {
        "id": "LiWfmHdW-UbS"
      },
      "source": [
        "# حلقه ها"
      ]
    },
    {
      "cell_type": "code",
      "metadata": {
        "id": "5cmFyzLQ-UbS",
        "colab": {
          "base_uri": "https://localhost:8080/"
        },
        "outputId": "87ff9016-f564-4e0c-9f7c-9eae7eee541b"
      },
      "source": [
        "cnt = 5\n",
        "while cnt > 0:\n",
        "    print('counting .. ' + str(cnt))\n",
        "    cnt -= 1  # note: cnt-- or cnt++ do not work!"
      ],
      "execution_count": null,
      "outputs": [
        {
          "output_type": "stream",
          "name": "stdout",
          "text": [
            "counting .. 5\n",
            "counting .. 4\n",
            "counting .. 3\n",
            "counting .. 2\n",
            "counting .. 1\n"
          ]
        }
      ]
    },
    {
      "cell_type": "code",
      "metadata": {
        "id": "n2_LqSmB-UbS",
        "colab": {
          "base_uri": "https://localhost:8080/"
        },
        "outputId": "a1e946e2-d2a3-466a-bc4d-168e41d29cd2"
      },
      "source": [
        "for i in range(2, 10, 3):\n",
        "    print(i)\n",
        "\n",
        "l  = ['asf','sajf','fsaf' ]\n",
        "for i in l:\n",
        "    print(i)"
      ],
      "execution_count": null,
      "outputs": [
        {
          "output_type": "stream",
          "name": "stdout",
          "text": [
            "2\n",
            "5\n",
            "8\n",
            "asf\n",
            "sajf\n",
            "fsaf\n"
          ]
        }
      ]
    },
    {
      "cell_type": "code",
      "metadata": {
        "id": "ThYLu5kI-UbT",
        "colab": {
          "base_uri": "https://localhost:8080/"
        },
        "outputId": "acc529eb-0690-4273-eb1d-36d44506e724"
      },
      "source": [
        "l = [2, 5, 7, 3, 10, 'salam']\n",
        "print(list(enumerate(l)))\n",
        "for (i, value) in enumerate(l):  # enumerate is like zip(0..n-1, list)\n",
        "    print('%dth value is:' % i, value)"
      ],
      "execution_count": null,
      "outputs": [
        {
          "output_type": "stream",
          "name": "stdout",
          "text": [
            "[(0, 2), (1, 5), (2, 7), (3, 3), (4, 10), (5, 'salam')]\n",
            "0th value is: 2\n",
            "1th value is: 5\n",
            "2th value is: 7\n",
            "3th value is: 3\n",
            "4th value is: 10\n",
            "5th value is: salam\n"
          ]
        }
      ]
    },
    {
      "cell_type": "code",
      "metadata": {
        "id": "erbwfeCl-UbT",
        "colab": {
          "base_uri": "https://localhost:8080/"
        },
        "outputId": "9762d1a9-586c-4112-8e47-7545cbb2eeff"
      },
      "source": [
        "for i in d:  # you can iterate dictionaries too!\n",
        "    print(i, ':', d[i])\n",
        "\n",
        "print('-----------')\n",
        "\n",
        "print(list(d.items()))\n",
        "for (key, value) in d.items():\n",
        "    print(key, ':', value)"
      ],
      "execution_count": null,
      "outputs": [
        {
          "output_type": "stream",
          "name": "stdout",
          "text": [
            "ali : 1\n",
            "mamad : 2\n",
            "(1, 2) : 4\n",
            "new : 123\n",
            "-----------\n",
            "[('ali', 1), ('mamad', 2), ((1, 2), 4), ('new', 123)]\n",
            "ali : 1\n",
            "mamad : 2\n",
            "(1, 2) : 4\n",
            "new : 123\n"
          ]
        }
      ]
    },
    {
      "cell_type": "code",
      "metadata": {
        "id": "1uGcQ3ow-UbT",
        "colab": {
          "base_uri": "https://localhost:8080/"
        },
        "outputId": "e3e39164-44f1-4ae1-f0e1-f4a7f762b179"
      },
      "source": [
        "a = [9135233333, 9123222233, 9212312121]\n",
        "b = ['iman', 'rasoul', 'fateme']\n",
        "for x, y in zip(a, b):\n",
        "    print(x, y)"
      ],
      "execution_count": null,
      "outputs": [
        {
          "output_type": "stream",
          "name": "stdout",
          "text": [
            "9135233333 iman\n",
            "9123222233 rasoul\n",
            "9212312121 fateme\n"
          ]
        }
      ]
    },
    {
      "cell_type": "code",
      "metadata": {
        "id": "dAEwqdrQ-UbU",
        "colab": {
          "base_uri": "https://localhost:8080/"
        },
        "outputId": "559e7502-3de8-454a-cd74-9c465e2e16fc"
      },
      "source": [
        "# Exercise 2\n",
        "mystr = \"\"\"Affronting everything discretion men now own did. Still round match we to. Frankness pronounce daughters remainder extensive has but. Happiness cordially one determine concluded fat. Plenty season beyond by hardly giving of. Consulted or acuteness dejection an smallness if. Outward general passage another as it. Very his are come man walk one next. Delighted prevailed supported too not remainder perpetual who furnished. Nay affronting bed projection compliment instrument. \n",
        "Paid was hill sir high. For him precaution any advantages dissimilar comparison few terminated projecting. Prevailed discovery immediate objection of ye at. Repair summer one winter living feebly pretty his. In so sense am known these since. Shortly respect ask cousins brought add tedious nay. Expect relied do we genius is. On as around spirit of hearts genius. Is raptures daughter branched laughter peculiar in settling. \n",
        "Was justice improve age article between. No projection as up preference reasonably delightful celebrated. Preserved and abilities assurance tolerably breakfast use saw. And painted letters forming far village elderly compact. Her rest west each spot his and you knew. Estate gay wooded depart six far her. Of we be have it lose gate bred. Do separate removing or expenses in. Had covered but evident chapter matters anxious. \n",
        "Demesne far hearted suppose venture excited see had has. Dependent on so extremely delivered by. Yet ?no jokes worse her why. Bed one supposing breakfast day fulfilled off depending questions. Whatever boy her exertion his extended. Ecstatic followed handsome drawings entirely mrs one yet outweigh. Of acceptance insipidity remarkably is invitation. \n",
        "Kept in sent gave feel will oh it we. Has pleasure procured men laughing shutters nay. Old insipidity motionless continuing law shy partiality. Depending acuteness dependent eat use dejection. Unpleasing astonished discovered not nor shy. Morning hearted now met yet beloved evening. Has and upon his last here must. \n",
        "Answer misery adieus add wooded how nay men before though. Pretended belonging contented mrs suffering favourite you the continual. Mrs civil nay least means tried drift. Natural end law whether but and towards certain. Furnished unfeeling his sometimes see day promotion. Quitting informed concerns can men now. Projection to or up conviction uncommonly delightful continuing. In appetite ecstatic opinions hastened by handsome admitted. \n",
        "Am no an listening depending up believing. Enough around remove to barton agreed regret in or it. Advantage mr estimable be commanded provision. Year well shot deny shew come now had. Shall downs stand marry taken his for out. Do related mr account brandon an up. Wrong for never ready ham these witty him. Our compass see age uncivil matters weather forbade her minutes. Ready how but truth son new under. \n",
        "Breakfast agreeable incommode departure it an. By ignorant at on wondered relation. Enough at tastes really so cousin am of. Extensive therefore supported by extremity of contented. Is pursuit compact demesne invited elderly be. View him she roof tell her case has sigh. Moreover is possible he admitted sociable concerns. By in cold no less been sent hard hill. \n",
        "Improved own provided blessing may peculiar domestic. Sight house has sex never. No visited raising gravity outward subject my cottage mr be. Hold do at tore in park feet near my case. Invitation at understood occasional sentiments insipidity inhabiting in. Off melancholy alteration principles old. Is do speedily kindness properly oh. Respect article painted cottage he is offices parlors. \n",
        "Of on affixed civilly moments promise explain fertile in. Assurance advantage belonging happiness departure so of. Now improving and one sincerity intention allowance commanded not. Oh an am frankness be necessary earnestly advantage estimable extensive. Five he wife gone ye. Mrs suffering sportsmen earnestly any. In am do giving to afford parish settle easily garret. \"\"\"\n",
        "\n",
        "mystr.replace('.', '')\n",
        "mystr.replace('?', '')\n",
        "\n",
        "d = {}\n",
        "for word in mystr.split(' '):\n",
        "    if word in d:\n",
        "        d[word] += 1\n",
        "    else:\n",
        "        d[word] = 1\n",
        "print(d)"
      ],
      "execution_count": null,
      "outputs": [
        {
          "output_type": "stream",
          "name": "stdout",
          "text": [
            "{'Affronting': 1, 'everything': 1, 'discretion': 1, 'men': 4, 'now': 3, 'own': 2, 'did.': 1, 'Still': 1, 'round': 1, 'match': 1, 'we': 3, 'to.': 1, 'Frankness': 1, 'pronounce': 1, 'daughters': 1, 'remainder': 2, 'extensive': 1, 'has': 3, 'but.': 1, 'Happiness': 1, 'cordially': 1, 'one': 6, 'determine': 1, 'concluded': 1, 'fat.': 1, 'Plenty': 1, 'season': 1, 'beyond': 1, 'by': 3, 'hardly': 1, 'giving': 2, 'of.': 3, 'Consulted': 1, 'or': 4, 'acuteness': 2, 'dejection': 1, 'an': 4, 'smallness': 1, 'if.': 1, 'Outward': 1, 'general': 1, 'passage': 1, 'another': 1, 'as': 3, 'it.': 2, 'Very': 1, 'his': 6, 'are': 1, 'come': 2, 'man': 1, 'walk': 1, 'next.': 1, 'Delighted': 1, 'prevailed': 1, 'supported': 2, 'too': 1, 'not': 2, 'perpetual': 1, 'who': 1, 'furnished.': 1, 'Nay': 1, 'affronting': 1, 'bed': 1, 'projection': 2, 'compliment': 1, 'instrument.': 1, '\\nPaid': 1, 'was': 1, 'hill': 1, 'sir': 1, 'high.': 1, 'For': 1, 'him': 2, 'precaution': 1, 'any': 1, 'advantages': 1, 'dissimilar': 1, 'comparison': 1, 'few': 1, 'terminated': 1, 'projecting.': 1, 'Prevailed': 1, 'discovery': 1, 'immediate': 1, 'objection': 1, 'of': 3, 'ye': 1, 'at.': 1, 'Repair': 1, 'summer': 1, 'winter': 1, 'living': 1, 'feebly': 1, 'pretty': 1, 'his.': 1, 'In': 3, 'so': 4, 'sense': 1, 'am': 4, 'known': 1, 'these': 2, 'since.': 1, 'Shortly': 1, 'respect': 1, 'ask': 1, 'cousins': 1, 'brought': 1, 'add': 2, 'tedious': 1, 'nay.': 2, 'Expect': 1, 'relied': 1, 'do': 4, 'genius': 1, 'is.': 1, 'On': 1, 'around': 2, 'spirit': 1, 'hearts': 1, 'genius.': 1, 'Is': 3, 'raptures': 1, 'daughter': 1, 'branched': 1, 'laughter': 1, 'peculiar': 2, 'in': 5, 'settling.': 1, '\\nWas': 1, 'justice': 1, 'improve': 1, 'age': 2, 'article': 2, 'between.': 1, 'No': 2, 'up': 3, 'preference': 1, 'reasonably': 1, 'delightful': 2, 'celebrated.': 1, 'Preserved': 1, 'and': 5, 'abilities': 1, 'assurance': 1, 'tolerably': 1, 'breakfast': 2, 'use': 2, 'saw.': 1, 'And': 1, 'painted': 2, 'letters': 1, 'forming': 1, 'far': 3, 'village': 1, 'elderly': 2, 'compact.': 1, 'Her': 1, 'rest': 1, 'west': 1, 'each': 1, 'spot': 1, 'you': 2, 'knew.': 1, 'Estate': 1, 'gay': 1, 'wooded': 2, 'depart': 1, 'six': 1, 'her.': 1, 'Of': 2, 'be': 3, 'have': 1, 'it': 3, 'lose': 1, 'gate': 1, 'bred.': 1, 'Do': 2, 'separate': 1, 'removing': 1, 'expenses': 1, 'in.': 3, 'Had': 1, 'covered': 1, 'but': 3, 'evident': 1, 'chapter': 1, 'matters': 2, 'anxious.': 1, '\\nDemesne': 1, 'hearted': 2, 'suppose': 1, 'venture': 1, 'excited': 1, 'see': 3, 'had': 1, 'has.': 1, 'Dependent': 1, 'on': 3, 'extremely': 1, 'delivered': 1, 'by.': 1, 'Yet': 1, '?no': 1, 'jokes': 1, 'worse': 1, 'her': 4, 'why.': 1, 'Bed': 1, 'supposing': 1, 'day': 2, 'fulfilled': 1, 'off': 1, 'depending': 2, 'questions.': 1, 'Whatever': 1, 'boy': 1, 'exertion': 1, 'extended.': 1, 'Ecstatic': 1, 'followed': 1, 'handsome': 2, 'drawings': 1, 'entirely': 1, 'mrs': 2, 'yet': 2, 'outweigh.': 1, 'acceptance': 1, 'insipidity': 3, 'remarkably': 1, 'is': 3, 'invitation.': 1, '\\nKept': 1, 'sent': 2, 'gave': 1, 'feel': 1, 'will': 1, 'oh': 1, 'we.': 1, 'Has': 2, 'pleasure': 1, 'procured': 1, 'laughing': 1, 'shutters': 1, 'Old': 1, 'motionless': 1, 'continuing': 1, 'law': 2, 'shy': 1, 'partiality.': 1, 'Depending': 1, 'dependent': 1, 'eat': 1, 'dejection.': 1, 'Unpleasing': 1, 'astonished': 1, 'discovered': 1, 'nor': 1, 'shy.': 1, 'Morning': 1, 'met': 1, 'beloved': 1, 'evening.': 1, 'upon': 1, 'last': 1, 'here': 1, 'must.': 1, '\\nAnswer': 1, 'misery': 1, 'adieus': 1, 'how': 2, 'nay': 2, 'before': 1, 'though.': 1, 'Pretended': 1, 'belonging': 2, 'contented': 1, 'suffering': 2, 'favourite': 1, 'the': 1, 'continual.': 1, 'Mrs': 2, 'civil': 1, 'least': 1, 'means': 1, 'tried': 1, 'drift.': 1, 'Natural': 1, 'end': 1, 'whether': 1, 'towards': 1, 'certain.': 1, 'Furnished': 1, 'unfeeling': 1, 'sometimes': 1, 'promotion.': 1, 'Quitting': 1, 'informed': 1, 'concerns': 1, 'can': 1, 'now.': 1, 'Projection': 1, 'to': 3, 'conviction': 1, 'uncommonly': 1, 'continuing.': 1, 'appetite': 1, 'ecstatic': 1, 'opinions': 1, 'hastened': 1, 'admitted.': 1, '\\nAm': 1, 'no': 2, 'listening': 1, 'believing.': 1, 'Enough': 2, 'remove': 1, 'barton': 1, 'agreed': 1, 'regret': 1, 'Advantage': 1, 'mr': 3, 'estimable': 2, 'commanded': 2, 'provision.': 1, 'Year': 1, 'well': 1, 'shot': 1, 'deny': 1, 'shew': 1, 'had.': 1, 'Shall': 1, 'downs': 1, 'stand': 1, 'marry': 1, 'taken': 1, 'for': 2, 'out.': 1, 'related': 1, 'account': 1, 'brandon': 1, 'up.': 1, 'Wrong': 1, 'never': 1, 'ready': 1, 'ham': 1, 'witty': 1, 'him.': 1, 'Our': 1, 'compass': 1, 'uncivil': 1, 'weather': 1, 'forbade': 1, 'minutes.': 1, 'Ready': 1, 'truth': 1, 'son': 1, 'new': 1, 'under.': 1, '\\nBreakfast': 1, 'agreeable': 1, 'incommode': 1, 'departure': 2, 'an.': 1, 'By': 2, 'ignorant': 1, 'at': 4, 'wondered': 1, 'relation.': 1, 'tastes': 1, 'really': 1, 'cousin': 1, 'Extensive': 1, 'therefore': 1, 'extremity': 1, 'contented.': 1, 'pursuit': 1, 'compact': 1, 'demesne': 1, 'invited': 1, 'be.': 2, 'View': 1, 'she': 1, 'roof': 1, 'tell': 1, 'case': 1, 'sigh.': 1, 'Moreover': 1, 'possible': 1, 'he': 3, 'admitted': 1, 'sociable': 1, 'concerns.': 1, 'cold': 1, 'less': 1, 'been': 1, 'hard': 1, 'hill.': 1, '\\nImproved': 1, 'provided': 1, 'blessing': 1, 'may': 1, 'domestic.': 1, 'Sight': 1, 'house': 1, 'sex': 1, 'never.': 1, 'visited': 1, 'raising': 1, 'gravity': 1, 'outward': 1, 'subject': 1, 'my': 2, 'cottage': 2, 'Hold': 1, 'tore': 1, 'park': 1, 'feet': 1, 'near': 1, 'case.': 1, 'Invitation': 1, 'understood': 1, 'occasional': 1, 'sentiments': 1, 'inhabiting': 1, 'Off': 1, 'melancholy': 1, 'alteration': 1, 'principles': 1, 'old.': 1, 'speedily': 1, 'kindness': 1, 'properly': 1, 'oh.': 1, 'Respect': 1, 'offices': 1, 'parlors.': 1, '\\nOf': 1, 'affixed': 1, 'civilly': 1, 'moments': 1, 'promise': 1, 'explain': 1, 'fertile': 1, 'Assurance': 1, 'advantage': 2, 'happiness': 1, 'Now': 1, 'improving': 1, 'sincerity': 1, 'intention': 1, 'allowance': 1, 'not.': 1, 'Oh': 1, 'frankness': 1, 'necessary': 1, 'earnestly': 2, 'extensive.': 1, 'Five': 1, 'wife': 1, 'gone': 1, 'ye.': 1, 'sportsmen': 1, 'any.': 1, 'afford': 1, 'parish': 1, 'settle': 1, 'easily': 1, 'garret.': 1, '': 1}\n"
          ]
        }
      ]
    },
    {
      "cell_type": "markdown",
      "metadata": {
        "id": "f-Fleot1-UbV"
      },
      "source": [
        "# توابع"
      ]
    },
    {
      "cell_type": "code",
      "metadata": {
        "id": "5QOrBHf7-UbV",
        "colab": {
          "base_uri": "https://localhost:8080/"
        },
        "outputId": "df6c2ac0-1837-482e-8fdb-3431ab6de863"
      },
      "source": [
        "import math\n",
        "\n",
        "def isPrime(a, b=10):\n",
        "    for i in range(2, int(math.sqrt(a)+1)):\n",
        "        if a % i == 0:\n",
        "            return False\n",
        "    return True\n",
        "\n",
        "print(isPrime(12))\n",
        "print(isPrime(a=17, b=5))\n",
        "\n",
        "def func(value1, aa, bb):\n",
        "    print('value1:', value1)\n",
        "    print('aa:', aa)\n",
        "    print('bb:', bb)\n",
        "\n",
        "func(value1=10, bb=2+3j, aa='salam')"
      ],
      "execution_count": null,
      "outputs": [
        {
          "output_type": "stream",
          "name": "stdout",
          "text": [
            "False\n",
            "True\n",
            "value1: 10\n",
            "aa: salam\n",
            "bb: (2+3j)\n"
          ]
        }
      ]
    },
    {
      "cell_type": "code",
      "metadata": {
        "id": "yyamo1nk-UbW",
        "colab": {
          "base_uri": "https://localhost:8080/"
        },
        "outputId": "f8c8e3f6-f1d3-4f73-9385-467bf89fd443"
      },
      "source": [
        "def applyFunction(f, value):\n",
        "    return f(value)\n",
        "\n",
        "def sqr(a):\n",
        "    return a*a\n",
        "\n",
        "print(applyFunction(sqr, 10))\n",
        "print(applyFunction(lambda x: 2*x, 10))  # doubles the value!"
      ],
      "execution_count": null,
      "outputs": [
        {
          "output_type": "stream",
          "name": "stdout",
          "text": [
            "100\n",
            "20\n"
          ]
        }
      ]
    },
    {
      "cell_type": "code",
      "metadata": {
        "id": "eYF9OUHf-UbW",
        "colab": {
          "base_uri": "https://localhost:8080/"
        },
        "outputId": "b844b387-bac9-4b64-ccb2-00e323510833"
      },
      "source": [
        "# print(isPrime('12')) -> TypeError\n",
        "isStrPrime = lambda x: isPrime(int(x))\n",
        "print(isStrPrime('12'))\n",
        "print(isStrPrime('17'))\n",
        "#  well anonymous functions are supposed to be well .. anonymous but\n",
        "# i just wanted to show that they are used just like normal functions"
      ],
      "execution_count": null,
      "outputs": [
        {
          "output_type": "stream",
          "name": "stdout",
          "text": [
            "False\n",
            "True\n"
          ]
        }
      ]
    },
    {
      "cell_type": "code",
      "metadata": {
        "id": "EFoBS02R-UbW",
        "colab": {
          "base_uri": "https://localhost:8080/"
        },
        "outputId": "274359a6-d71f-479a-83fb-54130976fe2f"
      },
      "source": [
        "# reading data from stdin\n",
        "print(list(map(int, input().split())))\n",
        "print(list(map(lambda x: isPrime(int(x)), input().split())))"
      ],
      "execution_count": null,
      "outputs": [
        {
          "output_type": "stream",
          "name": "stdout",
          "text": [
            "1 5 8\n",
            "[1, 5, 8]\n",
            "4545\n",
            "[False]\n"
          ]
        }
      ]
    },
    {
      "cell_type": "code",
      "metadata": {
        "id": "61WGiTKA-UbW",
        "outputId": "71d14e85-a7a0-4840-d3ae-f51c61d5227e"
      },
      "source": [
        "help(str.split)\n",
        "#help('13'.split)"
      ],
      "execution_count": null,
      "outputs": [
        {
          "name": "stdout",
          "output_type": "stream",
          "text": [
            "Help on method_descriptor:\n",
            "\n",
            "split(...)\n",
            "    S.split([sep [,maxsplit]]) -> list of strings\n",
            "    \n",
            "    Return a list of the words in the string S, using sep as the\n",
            "    delimiter string.  If maxsplit is given, at most maxsplit\n",
            "    splits are done. If sep is not specified or is None, any\n",
            "    whitespace string is a separator and empty strings are removed\n",
            "    from the result.\n",
            "\n"
          ]
        }
      ]
    },
    {
      "cell_type": "markdown",
      "metadata": {
        "id": "2NV74gV5-UbX"
      },
      "source": [
        "# مرتب سازی با تابع ترتیب دلخواه"
      ]
    },
    {
      "cell_type": "code",
      "metadata": {
        "id": "84LftsEY-UbX",
        "outputId": "94c59378-8d1b-4361-b735-8a275c61c803"
      },
      "source": [
        "l = ['1', '6', '2', '4', '10']\n",
        "l.sort()\n",
        "print(l)  # uses string comparing methods\n",
        "\n",
        "def compareInt(str1, str2):\n",
        "    # shoud return:\n",
        "    #   >= 1 for greater\n",
        "    #   <= -1 for less\n",
        "    #   0 for equal\n",
        "    return int(str1) - int(str2)\n",
        "\n",
        "l.sort(compareInt)\n",
        "print(l)  # gives what we wanted"
      ],
      "execution_count": null,
      "outputs": [
        {
          "name": "stdout",
          "output_type": "stream",
          "text": [
            "['1', '10', '2', '4', '6']\n",
            "['1', '2', '4', '6', '10']\n"
          ]
        }
      ]
    },
    {
      "cell_type": "code",
      "metadata": {
        "id": "SL4OgE4H-UbX",
        "outputId": "8bd7b7cb-2f17-492b-9424-266adf7a2ef9"
      },
      "source": [
        "l = [1,3,5,9,51,52,6,37]\n",
        "def cmp(a,b):\n",
        "    cnt1 = 0\n",
        "    while a > 0:\n",
        "        cnt1 += a%2\n",
        "        a = a//2\n",
        "    cnt2 = 0\n",
        "    while b > 0:\n",
        "        cnt2 += b%2\n",
        "        b = b // 2\n",
        "    if cnt1 == cnt2:\n",
        "        return 0\n",
        "    elif cnt1 > cnt2:\n",
        "        return 1\n",
        "    else:\n",
        "        return -1\n",
        "    \n",
        "l.sort(cmp)\n",
        "print l"
      ],
      "execution_count": null,
      "outputs": [
        {
          "name": "stdout",
          "output_type": "stream",
          "text": [
            "[1, 3, 5, 9, 6, 52, 37, 51]\n"
          ]
        }
      ]
    },
    {
      "cell_type": "code",
      "metadata": {
        "id": "YAUl6kyk-UbY",
        "colab": {
          "base_uri": "https://localhost:8080/"
        },
        "outputId": "f71cf2b9-9d68-45fa-8a24-17a8ac0cfe16"
      },
      "source": [
        "def mult(a, b):\n",
        "    return a*b\n",
        "\n",
        "mult(3, 4)\n",
        "\n",
        "def partialMult(a):\n",
        "    def mult(b):\n",
        "        return a * b\n",
        "    return mult\n",
        "\n",
        "multBy3 = partialMult(3)\n",
        "print(type(multBy3))\n",
        "print(multBy3(2))\n",
        "print(multBy3(11))\n",
        "print(multBy3(4))"
      ],
      "execution_count": null,
      "outputs": [
        {
          "output_type": "stream",
          "name": "stdout",
          "text": [
            "<class 'function'>\n",
            "6\n",
            "33\n",
            "12\n"
          ]
        }
      ]
    },
    {
      "cell_type": "code",
      "metadata": {
        "id": "zWTuFlNS-UbY",
        "colab": {
          "base_uri": "https://localhost:8080/"
        },
        "outputId": "c8741bd9-1093-4b98-e9fd-14f97ddab09b"
      },
      "source": [
        "# for reference this idea can be done more easily with functools\n",
        "from functools import partial\n",
        "\n",
        "anotherMultBy3 = partial(mult, b=5)\n",
        "print(anotherMultBy3(a=4))"
      ],
      "execution_count": null,
      "outputs": [
        {
          "output_type": "stream",
          "name": "stdout",
          "text": [
            "20\n"
          ]
        }
      ]
    },
    {
      "cell_type": "markdown",
      "metadata": {
        "id": "aWYFHLwX-UbZ"
      },
      "source": [
        "<div style=\"direction:rtl;line-height:300%;\" id=\"section13\"><font face=\"XB Zar\" size=5>\n",
        "<h3>Help</h3>\n",
        "</font></div>"
      ]
    },
    {
      "cell_type": "code",
      "metadata": {
        "id": "rSdLjALb-UbZ",
        "colab": {
          "base_uri": "https://localhost:8080/"
        },
        "outputId": "50efb2cf-d9b6-4cc3-cd0a-8a620f8f3237"
      },
      "source": [
        "help()"
      ],
      "execution_count": null,
      "outputs": [
        {
          "output_type": "stream",
          "name": "stdout",
          "text": [
            "\n",
            "Welcome to Python 3.7's help utility!\n",
            "\n",
            "If this is your first time using Python, you should definitely check out\n",
            "the tutorial on the Internet at https://docs.python.org/3.7/tutorial/.\n",
            "\n",
            "Enter the name of any module, keyword, or topic to get help on writing\n",
            "Python programs and using Python modules.  To quit this help utility and\n",
            "return to the interpreter, just type \"quit\".\n",
            "\n",
            "To get a list of available modules, keywords, symbols, or topics, type\n",
            "\"modules\", \"keywords\", \"symbols\", or \"topics\".  Each module also comes\n",
            "with a one-line summary of what it does; to list the modules whose name\n",
            "or summary contain a given string such as \"spam\", type \"modules spam\".\n",
            "\n",
            "help> print\n",
            "Help on built-in function print in module builtins:\n",
            "\n",
            "print(...)\n",
            "    print(value, ..., sep=' ', end='\\n', file=sys.stdout, flush=False)\n",
            "    \n",
            "    Prints the values to a stream, or to sys.stdout by default.\n",
            "    Optional keyword arguments:\n",
            "    file:  a file-like object (stream); defaults to the current sys.stdout.\n",
            "    sep:   string inserted between values, default a space.\n",
            "    end:   string appended after the last value, default a newline.\n",
            "    flush: whether to forcibly flush the stream.\n",
            "\n",
            "\n",
            "You are now leaving help and returning to the Python interpreter.\n",
            "If you want to ask for help on a particular object directly from the\n",
            "interpreter, you can type \"help(object)\".  Executing \"help('string')\"\n",
            "has the same effect as typing a particular string at the help> prompt.\n"
          ]
        }
      ]
    },
    {
      "cell_type": "code",
      "metadata": {
        "id": "sRvCDXwo-UbZ",
        "colab": {
          "base_uri": "https://localhost:8080/"
        },
        "outputId": "c85eb01c-0abe-431e-e5b2-31e0a6b549e3"
      },
      "source": [
        "s = 100\n",
        "def g():\n",
        "    global s\n",
        "    s = s + 2\n",
        "    print(s)\n",
        "def f():\n",
        "    global s\n",
        "    s = 12\n",
        "    print(s)\n",
        "    \n",
        "g()\n",
        "g()\n",
        "f()\n",
        "g()\n",
        "f()"
      ],
      "execution_count": null,
      "outputs": [
        {
          "output_type": "stream",
          "name": "stdout",
          "text": [
            "102\n",
            "104\n",
            "12\n",
            "14\n",
            "12\n"
          ]
        }
      ]
    },
    {
      "cell_type": "markdown",
      "metadata": {
        "id": "YhfEfIT7-Uba"
      },
      "source": [
        "# Class"
      ]
    },
    {
      "cell_type": "code",
      "metadata": {
        "id": "7IB_eq2l-Uba",
        "colab": {
          "base_uri": "https://localhost:8080/"
        },
        "outputId": "e5113b36-1e51-4771-864b-53bbd916e4ec"
      },
      "source": [
        "class Test:\n",
        "    a  = 0\n",
        "    def __init__(self, x, y):\n",
        "        self.x=  x\n",
        "        self.y = y\n",
        "        self.a += 1\n",
        "        print('hello, i\\'m here!')\n",
        "    \n",
        "    def __del__(otherName):  # you can do this too, but please dont\n",
        "        print('i have to go, bye!')\n",
        "\n",
        "t = Test(2,3)\n",
        "print(t.x)\n",
        "print(t.a)\n",
        "s = Test(1,2)\n",
        "print(s.a)\n",
        "t = None  # python has garbage collection like Java\n",
        "#  you can explicity call garbage collector with first importing `gc`\n",
        "# and then calling gc.collect()"
      ],
      "execution_count": null,
      "outputs": [
        {
          "output_type": "stream",
          "name": "stdout",
          "text": [
            "hello, i'm here!\n",
            "2\n",
            "1\n",
            "hello, i'm here!\n",
            "1\n",
            "i have to go, bye!\n",
            "i have to go, bye!\n"
          ]
        }
      ]
    },
    {
      "cell_type": "markdown",
      "metadata": {
        "id": "zudAOUY6-Uba"
      },
      "source": [
        "<div style=\"direction:rtl;line-height:300%;\"><font face=\"XB Zar\" size=5>\n",
        "هر کلاس می‌تواند تعدادی فیلد (همان متغیرهای کلاس) داشته باشد. شما می‌توانید در هر لحظه از کد به یک شی متغیری را اضافه کنید (مگر این که از قصد این قابلیت از شما گرفته شده باشد) ولی بهتر است که تمام فیلد‌های یک کلاس در داخل constructor\n",
        "تعریف شوند (یعنی مقدار اولیه بگیرند).\n",
        "</font></div>"
      ]
    },
    {
      "cell_type": "code",
      "metadata": {
        "id": "mdFHT9q3-Uba",
        "colab": {
          "base_uri": "https://localhost:8080/"
        },
        "outputId": "9b268976-f89e-44e4-c979-3fa828cf2607"
      },
      "source": [
        "class Test:\n",
        "    a = 1 # you can even do this, but it's better not to\n",
        "    def __init__(self, b, c):\n",
        "        self.b = b  # this is the best way\n",
        "        self.c = c\n",
        "        self.a = a\n",
        "        self.other_value = 10\n",
        "\n",
        "    #def isPrime\n",
        "\n",
        "o = Test(2, 3)\n",
        "#o.isprime(15)\n",
        "o.d = 4 # you can even set an attribute outside of the class!\n",
        "print(o.a, o.b, o.c, o.d, o.other_value)"
      ],
      "execution_count": null,
      "outputs": [
        {
          "output_type": "stream",
          "name": "stdout",
          "text": [
            "1 2 3 4 10\n"
          ]
        }
      ]
    },
    {
      "cell_type": "markdown",
      "metadata": {
        "id": "M_PlBe-N-Ubb"
      },
      "source": [
        "# وراثت"
      ]
    },
    {
      "cell_type": "code",
      "metadata": {
        "id": "-zXUjsSS-Ubb",
        "colab": {
          "base_uri": "https://localhost:8080/"
        },
        "outputId": "7ddcc08a-de27-44a5-ee17-d9338f250760"
      },
      "source": [
        "class A(object):\n",
        "    #  in python2 you can only use superwhen one of the parents\n",
        "    # inherit from a class that eventually inherits `object`, so A\n",
        "    # has to inherit from `object`\n",
        "    def __init__(self):\n",
        "        print('in A')\n",
        "\n",
        "class B(A):\n",
        "    def __init__(self):\n",
        "        print('in B')\n",
        "        super(B, self).__init__()\n",
        "        #A.__init__(self)\n",
        "        # this is okay too, but there are some pitfalls when using\n",
        "        # muliple inheritances. but this doesn't require A to inherit\n",
        "        # from `object`\n",
        "\n",
        "b = B()"
      ],
      "execution_count": null,
      "outputs": [
        {
          "output_type": "stream",
          "name": "stdout",
          "text": [
            "in B\n",
            "in A\n"
          ]
        }
      ]
    },
    {
      "cell_type": "markdown",
      "metadata": {
        "id": "gjee6jLjY4Sl"
      },
      "source": [
        "# بارگزاری دیتاست"
      ]
    },
    {
      "cell_type": "code",
      "metadata": {
        "id": "zVx3HYrtY97x",
        "colab": {
          "base_uri": "https://localhost:8080/"
        },
        "outputId": "6464b19b-62e0-40c6-97d9-73f2f8d5208c"
      },
      "source": [
        "from google.colab import drive\n",
        "drive.mount('/media/gdrive')"
      ],
      "execution_count": null,
      "outputs": [
        {
          "output_type": "stream",
          "name": "stdout",
          "text": [
            "Mounted at /media/gdrive\n"
          ]
        }
      ]
    },
    {
      "cell_type": "code",
      "metadata": {
        "id": "gCJ9qK1QZITm",
        "colab": {
          "base_uri": "https://localhost:8080/",
          "height": 165
        },
        "outputId": "604aafdd-5658-42cd-ae38-dee449fbc5a9"
      },
      "source": [
        "raw_data = np.loadtxt(\"/media/gdrive/MyDrive/MLS_HW1/WiFi-Data.txt\")"
      ],
      "execution_count": null,
      "outputs": [
        {
          "output_type": "error",
          "ename": "NameError",
          "evalue": "ignored",
          "traceback": [
            "\u001b[0;31m---------------------------------------------------------------------------\u001b[0m",
            "\u001b[0;31mNameError\u001b[0m                                 Traceback (most recent call last)",
            "\u001b[0;32m<ipython-input-4-6a55c154e874>\u001b[0m in \u001b[0;36m<module>\u001b[0;34m\u001b[0m\n\u001b[0;32m----> 1\u001b[0;31m \u001b[0mraw_data\u001b[0m \u001b[0;34m=\u001b[0m \u001b[0mnp\u001b[0m\u001b[0;34m.\u001b[0m\u001b[0mloadtxt\u001b[0m\u001b[0;34m(\u001b[0m\u001b[0;34m\"/media/gdrive/MyDrive/MLS_HW1/WiFi-Data.txt\"\u001b[0m\u001b[0;34m)\u001b[0m\u001b[0;34m\u001b[0m\u001b[0;34m\u001b[0m\u001b[0m\n\u001b[0m",
            "\u001b[0;31mNameError\u001b[0m: name 'np' is not defined"
          ]
        }
      ]
    },
    {
      "cell_type": "code",
      "metadata": {
        "id": "s4yLUd4YZMAf"
      },
      "source": [
        "train_data_0 = raw_data[0:500,:7]\n",
        "train_data_1 = raw_data[500:1000,:7]\n",
        "train_data_2 = raw_data[1000:1500,:7]\n",
        "train_data_3 = raw_data[1500:2000,:7]\n",
        "train_data_0.shape\n",
        "a = np.concatenate((train_data_0, train_data_1), axis=0)\n",
        "a.shape"
      ],
      "execution_count": null,
      "outputs": []
    },
    {
      "cell_type": "markdown",
      "metadata": {
        "id": "8rPRPxWOagzM"
      },
      "source": [
        "# Plot"
      ]
    },
    {
      "cell_type": "code",
      "metadata": {
        "id": "yzC-9t1FajXq"
      },
      "source": [
        "import matplotlib.pyplot as plt\n",
        "\n",
        "%matplotlib inline\n",
        "\n",
        "!pip install jupyterthemes"
      ],
      "execution_count": null,
      "outputs": []
    },
    {
      "cell_type": "code",
      "metadata": {
        "id": "lGkr65measpC"
      },
      "source": [
        "from jupyterthemes import jtplot\n",
        "jtplot.style(theme=\"onedork\", context=\"notebook\", grid=False)\n",
        "fig, axes = plt.subplots(nrows=1, ncols=1, figsize=(7,4))\n",
        "axes.plot(range(1600), np.array(loss_history).reshape(1600,1), c=\"orange\", lw=3)\n",
        "axes.set_xlabel(xlabel=\"iteration\")\n",
        "axes.set_ylabel(ylabel=\"validation accuracy\")\n",
        "axes.set_title(label=\"Logistic Regression\")"
      ],
      "execution_count": null,
      "outputs": []
    },
    {
      "cell_type": "code",
      "metadata": {
        "id": "9zmcPCajcRYp"
      },
      "source": [
        "fig, axes = plt.subplots(nrows= 10, ncols= 2, figsize=(10,10))\n",
        "for i in range(10):\n",
        "  j = np.argmax(np.where(y_val==i, 1, 0))\n",
        "  X_asl = np.multiply(X_val[j,:], var)+mian\n",
        "  axes[i,0].imshow(X=X_asl.reshape(28,28)/256, cmap=\"rainbow\")\n",
        "  axes[i,0].axis(\"off\")\n",
        "\n",
        "  X_hat, loss = model.forward(x=X_val[j,:], y=X_val[j,:])\n",
        "  X_hat = np.multiply(X_hat, var)+mian\n",
        "  axes[i,1].imshow(X=X_hat.reshape(28,28)/256, cmap=\"rainbow\")\n",
        "  axes[i,1].axis(\"off\")"
      ],
      "execution_count": null,
      "outputs": []
    },
    {
      "cell_type": "markdown",
      "metadata": {
        "id": "-MgSgObT-Ubb"
      },
      "source": [
        "# لیست بی نهایت"
      ]
    },
    {
      "cell_type": "code",
      "metadata": {
        "id": "a1VjR_rT-Ubc",
        "colab": {
          "base_uri": "https://localhost:8080/"
        },
        "outputId": "4932696d-78fa-4581-bc9b-64dfcd52574c"
      },
      "source": [
        "def InfiniteList(start):\n",
        "    value = start\n",
        "    while True:\n",
        "        yield value\n",
        "        value = value+1\n",
        "        \n",
        "expectedSum = 123\n",
        "cnt = 0;\n",
        "for i in InfiniteList(1):\n",
        "    cnt += i\n",
        "    if cnt >= expectedSum:\n",
        "        print('first value `d` with sum of 1 .. `d` ' \\\n",
        "            + 'greater than %d is %d' % (expectedSum, i))\n",
        "        break"
      ],
      "execution_count": null,
      "outputs": [
        {
          "output_type": "stream",
          "name": "stdout",
          "text": [
            "first value `d` with sum of 1 .. `d` greater than 123 is 16\n"
          ]
        }
      ]
    },
    {
      "cell_type": "code",
      "metadata": {
        "id": "mQSUMkdA-Ubc",
        "colab": {
          "base_uri": "https://localhost:8080/"
        },
        "outputId": "922ca0f7-f4a6-4c5b-cda2-fb4c3486f2a8"
      },
      "source": [
        "import itertools\n",
        "print('list of odd numbers between 123 and 150:', list(filter(\n",
        "            lambda x: x%2 == 1, \n",
        "            itertools.takewhile(\n",
        "                lambda x: x<150,\n",
        "                InfiniteList(123)\n",
        "            )\n",
        "        ))\n",
        ")"
      ],
      "execution_count": null,
      "outputs": [
        {
          "output_type": "stream",
          "name": "stdout",
          "text": [
            "list of odd numbers between 123 and 150: [123, 125, 127, 129, 131, 133, 135, 137, 139, 141, 143, 145, 147, 149]\n"
          ]
        }
      ]
    },
    {
      "cell_type": "code",
      "metadata": {
        "id": "4HSiMvMN-Ubc",
        "colab": {
          "base_uri": "https://localhost:8080/"
        },
        "outputId": "b271931a-8f63-42ca-d6db-f0228880a447"
      },
      "source": [
        "def FibonacciSeq():\n",
        "    a, b = 0, 1\n",
        "    while True:\n",
        "        yield b\n",
        "        b = a + b\n",
        "        a = b - a\n",
        "\n",
        "for fib, i in zip(FibonacciSeq(), range(5)):\n",
        "    print('%dth fibonacci number is %d' % (i, fib))"
      ],
      "execution_count": null,
      "outputs": [
        {
          "output_type": "stream",
          "name": "stdout",
          "text": [
            "0th fibonacci number is 1\n",
            "1th fibonacci number is 1\n",
            "2th fibonacci number is 2\n",
            "3th fibonacci number is 3\n",
            "4th fibonacci number is 5\n"
          ]
        }
      ]
    },
    {
      "cell_type": "markdown",
      "metadata": {
        "id": "t8my8whN-Ubd"
      },
      "source": [
        "<div style=\"direction:rtl;line-height:300%;\"><font face=\"XB Zar\" size=5>\n",
        "<h3>\n",
        "دربرگیرنده‌ها\n",
        "(Wrappers یا Decorators)\n",
        "</h3>\n",
        "</font></div>"
      ]
    },
    {
      "cell_type": "code",
      "metadata": {
        "id": "KseQLXY5-Ubd",
        "colab": {
          "base_uri": "https://localhost:8080/"
        },
        "outputId": "7a4b9acf-373d-4964-e6db-713bcc820e63"
      },
      "source": [
        "\n",
        "import time\n",
        "\n",
        "def fib(n):\n",
        "    if n <= 1:\n",
        "        return 1\n",
        "    return fib(n-1) + fib(n-2)\n",
        "\n",
        "for i in range(30, 35):\n",
        "    start = time.time()\n",
        "    value = fib(i)\n",
        "    print('%dth fibonacci number is %d ' % (i, value) + \\\n",
        "          'it took %.2f secs to calculate' % (time.time() - start))"
      ],
      "execution_count": null,
      "outputs": [
        {
          "output_type": "stream",
          "name": "stdout",
          "text": [
            "30th fibonacci number is 1346269 it took 0.38 secs to calculate\n",
            "31th fibonacci number is 2178309 it took 0.62 secs to calculate\n",
            "32th fibonacci number is 3524578 it took 0.99 secs to calculate\n",
            "33th fibonacci number is 5702887 it took 1.59 secs to calculate\n",
            "34th fibonacci number is 9227465 it took 2.54 secs to calculate\n"
          ]
        }
      ]
    },
    {
      "cell_type": "code",
      "metadata": {
        "id": "eA1tCpzE-Ubd",
        "colab": {
          "base_uri": "https://localhost:8080/"
        },
        "outputId": "31728117-3cba-4fb4-aa8a-6924eef770bf"
      },
      "source": [
        "import collections\n",
        "\n",
        "def memoize(func):\n",
        "    memoizeDict = {}\n",
        "    def wrapper(*args):\n",
        "        if not isinstance(args, collections.Hashable):\n",
        "            # later is better than never!\n",
        "            return func(*args)\n",
        "        elif not args in memoizeDict:\n",
        "            memoizeDict[args] = func(*args)\n",
        "        return memoizeDict[args]\n",
        "    return wrapper\n",
        "\n",
        "@memoize\n",
        "def fib_memoized(n):\n",
        "    if n <= 1:\n",
        "        return 1\n",
        "    return fib_memoized(n-1) + fib_memoized(n-2)\n",
        "\n",
        "for i in range(30, 35):\n",
        "    start = time.time()\n",
        "    value = fib_memoized(i)\n",
        "    print('%dth fibonacci number is %d ' % (i, value) + \\\n",
        "          'it took %.4f secs to calculate' % (time.time() - start))"
      ],
      "execution_count": null,
      "outputs": [
        {
          "output_type": "stream",
          "name": "stdout",
          "text": [
            "30th fibonacci number is 1346269 it took 0.0026 secs to calculate\n",
            "31th fibonacci number is 2178309 it took 0.0000 secs to calculate\n",
            "32th fibonacci number is 3524578 it took 0.0000 secs to calculate\n",
            "33th fibonacci number is 5702887 it took 0.0000 secs to calculate\n",
            "34th fibonacci number is 9227465 it took 0.0000 secs to calculate\n"
          ]
        },
        {
          "output_type": "stream",
          "name": "stderr",
          "text": [
            "/usr/local/lib/python3.7/dist-packages/ipykernel_launcher.py:6: DeprecationWarning: Using or importing the ABCs from 'collections' instead of from 'collections.abc' is deprecated since Python 3.3,and in 3.9 it will stop working\n",
            "  \n"
          ]
        }
      ]
    }
  ]
}